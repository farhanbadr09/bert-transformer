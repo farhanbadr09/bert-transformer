{
 "cells": [
  {
   "cell_type": "code",
   "execution_count": 1,
   "id": "d6d0d971",
   "metadata": {},
   "outputs": [
    {
     "name": "stdout",
     "output_type": "stream",
     "text": [
      "Collecting tokenizers\n",
      "  Downloading tokenizers-0.10.3-cp36-cp36m-manylinux_2_5_x86_64.manylinux1_x86_64.manylinux_2_12_x86_64.manylinux2010_x86_64.whl (3.3 MB)\n",
      "\u001b[K     |████████████████████████████████| 3.3 MB 5.7 MB/s eta 0:00:01\n",
      "\u001b[?25hInstalling collected packages: tokenizers\n",
      "Successfully installed tokenizers-0.10.3\n",
      "\u001b[33mWARNING: You are using pip version 21.1.2; however, version 21.1.3 is available.\n",
      "You should consider upgrading via the '/home/ec2-user/anaconda3/envs/pytorch_latest_p36/bin/python -m pip install --upgrade pip' command.\u001b[0m\n"
     ]
    }
   ],
   "source": [
    "!pip install -r requirements.txt"
   ]
  },
  {
   "cell_type": "code",
   "execution_count": 2,
   "id": "47558b5c",
   "metadata": {},
   "outputs": [],
   "source": [
    "%load_ext autoreload\n",
    "%autoreload 2"
   ]
  },
  {
   "cell_type": "code",
   "execution_count": 3,
   "id": "4016e631",
   "metadata": {},
   "outputs": [],
   "source": [
    "import pandas as pd\n",
    "from nltk import sent_tokenize\n",
    "from tokenizers import Tokenizer\n",
    "import torch"
   ]
  },
  {
   "cell_type": "code",
   "execution_count": 4,
   "id": "51f9b8ed",
   "metadata": {},
   "outputs": [],
   "source": [
    "df = pd.read_csv(\n",
    "    'data/jd.csv', \n",
    "#     nrows=1000\n",
    ")"
   ]
  },
  {
   "cell_type": "code",
   "execution_count": 5,
   "id": "4ef8dc8f",
   "metadata": {},
   "outputs": [
    {
     "data": {
      "text/html": [
       "<div>\n",
       "<style scoped>\n",
       "    .dataframe tbody tr th:only-of-type {\n",
       "        vertical-align: middle;\n",
       "    }\n",
       "\n",
       "    .dataframe tbody tr th {\n",
       "        vertical-align: top;\n",
       "    }\n",
       "\n",
       "    .dataframe thead th {\n",
       "        text-align: right;\n",
       "    }\n",
       "</style>\n",
       "<table border=\"1\" class=\"dataframe\">\n",
       "  <thead>\n",
       "    <tr style=\"text-align: right;\">\n",
       "      <th></th>\n",
       "      <th>Id</th>\n",
       "      <th>Title</th>\n",
       "      <th>FullDescription</th>\n",
       "      <th>LocationRaw</th>\n",
       "      <th>LocationNormalized</th>\n",
       "      <th>ContractType</th>\n",
       "      <th>ContractTime</th>\n",
       "      <th>Company</th>\n",
       "      <th>Category</th>\n",
       "      <th>SalaryRaw</th>\n",
       "      <th>SalaryNormalized</th>\n",
       "      <th>SourceName</th>\n",
       "    </tr>\n",
       "  </thead>\n",
       "  <tbody>\n",
       "    <tr>\n",
       "      <th>0</th>\n",
       "      <td>12612628</td>\n",
       "      <td>Engineering Systems Analyst</td>\n",
       "      <td>Engineering Systems Analyst Dorking Surrey Sal...</td>\n",
       "      <td>Dorking, Surrey, Surrey</td>\n",
       "      <td>Dorking</td>\n",
       "      <td>NaN</td>\n",
       "      <td>permanent</td>\n",
       "      <td>Gregory Martin International</td>\n",
       "      <td>Engineering Jobs</td>\n",
       "      <td>20000 - 30000/annum 20-30K</td>\n",
       "      <td>25000</td>\n",
       "      <td>cv-library.co.uk</td>\n",
       "    </tr>\n",
       "    <tr>\n",
       "      <th>1</th>\n",
       "      <td>12612830</td>\n",
       "      <td>Stress Engineer Glasgow</td>\n",
       "      <td>Stress Engineer Glasgow Salary **** to **** We...</td>\n",
       "      <td>Glasgow, Scotland, Scotland</td>\n",
       "      <td>Glasgow</td>\n",
       "      <td>NaN</td>\n",
       "      <td>permanent</td>\n",
       "      <td>Gregory Martin International</td>\n",
       "      <td>Engineering Jobs</td>\n",
       "      <td>25000 - 35000/annum 25-35K</td>\n",
       "      <td>30000</td>\n",
       "      <td>cv-library.co.uk</td>\n",
       "    </tr>\n",
       "    <tr>\n",
       "      <th>2</th>\n",
       "      <td>12612844</td>\n",
       "      <td>Modelling and simulation analyst</td>\n",
       "      <td>Mathematical Modeller / Simulation Analyst / O...</td>\n",
       "      <td>Hampshire, South East, South East</td>\n",
       "      <td>Hampshire</td>\n",
       "      <td>NaN</td>\n",
       "      <td>permanent</td>\n",
       "      <td>Gregory Martin International</td>\n",
       "      <td>Engineering Jobs</td>\n",
       "      <td>20000 - 40000/annum 20-40K</td>\n",
       "      <td>30000</td>\n",
       "      <td>cv-library.co.uk</td>\n",
       "    </tr>\n",
       "    <tr>\n",
       "      <th>3</th>\n",
       "      <td>12613049</td>\n",
       "      <td>Engineering Systems Analyst / Mathematical Mod...</td>\n",
       "      <td>Engineering Systems Analyst / Mathematical Mod...</td>\n",
       "      <td>Surrey, South East, South East</td>\n",
       "      <td>Surrey</td>\n",
       "      <td>NaN</td>\n",
       "      <td>permanent</td>\n",
       "      <td>Gregory Martin International</td>\n",
       "      <td>Engineering Jobs</td>\n",
       "      <td>25000 - 30000/annum 25K-30K negotiable</td>\n",
       "      <td>27500</td>\n",
       "      <td>cv-library.co.uk</td>\n",
       "    </tr>\n",
       "    <tr>\n",
       "      <th>4</th>\n",
       "      <td>12613647</td>\n",
       "      <td>Pioneer, Miser Engineering Systems Analyst</td>\n",
       "      <td>Pioneer, Miser  Engineering Systems Analyst Do...</td>\n",
       "      <td>Surrey, South East, South East</td>\n",
       "      <td>Surrey</td>\n",
       "      <td>NaN</td>\n",
       "      <td>permanent</td>\n",
       "      <td>Gregory Martin International</td>\n",
       "      <td>Engineering Jobs</td>\n",
       "      <td>20000 - 30000/annum 20-30K</td>\n",
       "      <td>25000</td>\n",
       "      <td>cv-library.co.uk</td>\n",
       "    </tr>\n",
       "    <tr>\n",
       "      <th>...</th>\n",
       "      <td>...</td>\n",
       "      <td>...</td>\n",
       "      <td>...</td>\n",
       "      <td>...</td>\n",
       "      <td>...</td>\n",
       "      <td>...</td>\n",
       "      <td>...</td>\n",
       "      <td>...</td>\n",
       "      <td>...</td>\n",
       "      <td>...</td>\n",
       "      <td>...</td>\n",
       "      <td>...</td>\n",
       "    </tr>\n",
       "    <tr>\n",
       "      <th>244763</th>\n",
       "      <td>72705211</td>\n",
       "      <td>TEACHER OF SCIENCE</td>\n",
       "      <td>Position: Qualified Teacher Subject/Specialism...</td>\n",
       "      <td>Swindon</td>\n",
       "      <td>Swindon</td>\n",
       "      <td>NaN</td>\n",
       "      <td>contract</td>\n",
       "      <td>NaN</td>\n",
       "      <td>Teaching Jobs</td>\n",
       "      <td>450 - 500 per week</td>\n",
       "      <td>22800</td>\n",
       "      <td>hays.co.uk</td>\n",
       "    </tr>\n",
       "    <tr>\n",
       "      <th>244764</th>\n",
       "      <td>72705212</td>\n",
       "      <td>TEACHER OF BUSINESS STUDIES AND ICT</td>\n",
       "      <td>Position: Qualified Teacher or NQT Subject/Spe...</td>\n",
       "      <td>Swindon</td>\n",
       "      <td>Swindon</td>\n",
       "      <td>NaN</td>\n",
       "      <td>contract</td>\n",
       "      <td>NaN</td>\n",
       "      <td>Teaching Jobs</td>\n",
       "      <td>450 - 500 per week</td>\n",
       "      <td>22800</td>\n",
       "      <td>hays.co.uk</td>\n",
       "    </tr>\n",
       "    <tr>\n",
       "      <th>244765</th>\n",
       "      <td>72705213</td>\n",
       "      <td>ENGLISH TEACHER</td>\n",
       "      <td>Position: Qualified Teacher Subject/Specialism...</td>\n",
       "      <td>Swindon</td>\n",
       "      <td>Swindon</td>\n",
       "      <td>NaN</td>\n",
       "      <td>contract</td>\n",
       "      <td>NaN</td>\n",
       "      <td>Teaching Jobs</td>\n",
       "      <td>450 - 500 per week</td>\n",
       "      <td>22800</td>\n",
       "      <td>hays.co.uk</td>\n",
       "    </tr>\n",
       "    <tr>\n",
       "      <th>244766</th>\n",
       "      <td>72705216</td>\n",
       "      <td>SUPPLY TEACHERS</td>\n",
       "      <td>Position: Qualified Teacher Subject/Specialism...</td>\n",
       "      <td>Wiltshire</td>\n",
       "      <td>Wiltshire</td>\n",
       "      <td>NaN</td>\n",
       "      <td>contract</td>\n",
       "      <td>NaN</td>\n",
       "      <td>Teaching Jobs</td>\n",
       "      <td>450 to 500 per week</td>\n",
       "      <td>22800</td>\n",
       "      <td>hays.co.uk</td>\n",
       "    </tr>\n",
       "    <tr>\n",
       "      <th>244767</th>\n",
       "      <td>72705235</td>\n",
       "      <td>Accountant</td>\n",
       "      <td>This entrepreneurial and growing private equit...</td>\n",
       "      <td>Hitchin</td>\n",
       "      <td>Hitchin</td>\n",
       "      <td>NaN</td>\n",
       "      <td>permanent</td>\n",
       "      <td>NaN</td>\n",
       "      <td>Teaching Jobs</td>\n",
       "      <td>40-45,000</td>\n",
       "      <td>42500</td>\n",
       "      <td>hays.co.uk</td>\n",
       "    </tr>\n",
       "  </tbody>\n",
       "</table>\n",
       "<p>244768 rows × 12 columns</p>\n",
       "</div>"
      ],
      "text/plain": [
       "              Id                                              Title  \\\n",
       "0       12612628                        Engineering Systems Analyst   \n",
       "1       12612830                            Stress Engineer Glasgow   \n",
       "2       12612844                   Modelling and simulation analyst   \n",
       "3       12613049  Engineering Systems Analyst / Mathematical Mod...   \n",
       "4       12613647         Pioneer, Miser Engineering Systems Analyst   \n",
       "...          ...                                                ...   \n",
       "244763  72705211                                 TEACHER OF SCIENCE   \n",
       "244764  72705212                TEACHER OF BUSINESS STUDIES AND ICT   \n",
       "244765  72705213                                    ENGLISH TEACHER   \n",
       "244766  72705216                                    SUPPLY TEACHERS   \n",
       "244767  72705235                                         Accountant   \n",
       "\n",
       "                                          FullDescription  \\\n",
       "0       Engineering Systems Analyst Dorking Surrey Sal...   \n",
       "1       Stress Engineer Glasgow Salary **** to **** We...   \n",
       "2       Mathematical Modeller / Simulation Analyst / O...   \n",
       "3       Engineering Systems Analyst / Mathematical Mod...   \n",
       "4       Pioneer, Miser  Engineering Systems Analyst Do...   \n",
       "...                                                   ...   \n",
       "244763  Position: Qualified Teacher Subject/Specialism...   \n",
       "244764  Position: Qualified Teacher or NQT Subject/Spe...   \n",
       "244765  Position: Qualified Teacher Subject/Specialism...   \n",
       "244766  Position: Qualified Teacher Subject/Specialism...   \n",
       "244767  This entrepreneurial and growing private equit...   \n",
       "\n",
       "                              LocationRaw LocationNormalized ContractType  \\\n",
       "0                 Dorking, Surrey, Surrey            Dorking          NaN   \n",
       "1             Glasgow, Scotland, Scotland            Glasgow          NaN   \n",
       "2       Hampshire, South East, South East          Hampshire          NaN   \n",
       "3          Surrey, South East, South East             Surrey          NaN   \n",
       "4          Surrey, South East, South East             Surrey          NaN   \n",
       "...                                   ...                ...          ...   \n",
       "244763                            Swindon            Swindon          NaN   \n",
       "244764                            Swindon            Swindon          NaN   \n",
       "244765                            Swindon            Swindon          NaN   \n",
       "244766                          Wiltshire          Wiltshire          NaN   \n",
       "244767                            Hitchin            Hitchin          NaN   \n",
       "\n",
       "       ContractTime                       Company          Category  \\\n",
       "0         permanent  Gregory Martin International  Engineering Jobs   \n",
       "1         permanent  Gregory Martin International  Engineering Jobs   \n",
       "2         permanent  Gregory Martin International  Engineering Jobs   \n",
       "3         permanent  Gregory Martin International  Engineering Jobs   \n",
       "4         permanent  Gregory Martin International  Engineering Jobs   \n",
       "...             ...                           ...               ...   \n",
       "244763     contract                           NaN     Teaching Jobs   \n",
       "244764     contract                           NaN     Teaching Jobs   \n",
       "244765     contract                           NaN     Teaching Jobs   \n",
       "244766     contract                           NaN     Teaching Jobs   \n",
       "244767    permanent                           NaN     Teaching Jobs   \n",
       "\n",
       "                                     SalaryRaw  SalaryNormalized  \\\n",
       "0                   20000 - 30000/annum 20-30K             25000   \n",
       "1                   25000 - 35000/annum 25-35K             30000   \n",
       "2                   20000 - 40000/annum 20-40K             30000   \n",
       "3       25000 - 30000/annum 25K-30K negotiable             27500   \n",
       "4                   20000 - 30000/annum 20-30K             25000   \n",
       "...                                        ...               ...   \n",
       "244763                      450 - 500 per week             22800   \n",
       "244764                      450 - 500 per week             22800   \n",
       "244765                      450 - 500 per week             22800   \n",
       "244766                     450 to 500 per week             22800   \n",
       "244767                               40-45,000             42500   \n",
       "\n",
       "              SourceName  \n",
       "0       cv-library.co.uk  \n",
       "1       cv-library.co.uk  \n",
       "2       cv-library.co.uk  \n",
       "3       cv-library.co.uk  \n",
       "4       cv-library.co.uk  \n",
       "...                  ...  \n",
       "244763        hays.co.uk  \n",
       "244764        hays.co.uk  \n",
       "244765        hays.co.uk  \n",
       "244766        hays.co.uk  \n",
       "244767        hays.co.uk  \n",
       "\n",
       "[244768 rows x 12 columns]"
      ]
     },
     "execution_count": 5,
     "metadata": {},
     "output_type": "execute_result"
    }
   ],
   "source": [
    "df"
   ]
  },
  {
   "cell_type": "code",
   "execution_count": 6,
   "id": "828180a1",
   "metadata": {},
   "outputs": [],
   "source": [
    "tokenizer = Tokenizer.from_file(\"data/jd_tokenizer_wordpiece.json\")\n",
    "tokenizer.enable_padding()\n",
    "tokenizer.enable_truncation(512)"
   ]
  },
  {
   "cell_type": "code",
   "execution_count": 7,
   "id": "abbd008e",
   "metadata": {},
   "outputs": [
    {
     "name": "stderr",
     "output_type": "stream",
     "text": [
      "[nltk_data] Downloading package punkt to /home/ec2-user/nltk_data...\n",
      "[nltk_data]   Unzipping tokenizers/punkt.zip.\n"
     ]
    },
    {
     "data": {
      "text/plain": [
       "True"
      ]
     },
     "execution_count": 7,
     "metadata": {},
     "output_type": "execute_result"
    }
   ],
   "source": [
    "import nltk\n",
    "nltk.download('punkt')"
   ]
  },
  {
   "cell_type": "code",
   "execution_count": 8,
   "id": "d250a333",
   "metadata": {},
   "outputs": [
    {
     "data": {
      "text/plain": [
       "[Encoding(num_tokens=3, attributes=[ids, type_ids, tokens, offsets, attention_mask, special_tokens_mask, overflowing]),\n",
       " Encoding(num_tokens=3, attributes=[ids, type_ids, tokens, offsets, attention_mask, special_tokens_mask, overflowing])]"
      ]
     },
     "execution_count": 8,
     "metadata": {},
     "output_type": "execute_result"
    }
   ],
   "source": [
    "tokenizer.encode_batch(['small sent', 'a larger sent'])"
   ]
  },
  {
   "cell_type": "code",
   "execution_count": 100,
   "id": "4fbe31c2",
   "metadata": {},
   "outputs": [
    {
     "name": "stderr",
     "output_type": "stream",
     "text": [
      "[nltk_data] Downloading package punkt to /home/ec2-user/nltk_data...\n",
      "[nltk_data]   Package punkt is already up-to-date!\n"
     ]
    }
   ],
   "source": [
    "from src.utils import DataCollatorForLanguageModeling, LineByLineDataGenerator"
   ]
  },
  {
   "cell_type": "code",
   "execution_count": 101,
   "id": "d37f6c20",
   "metadata": {},
   "outputs": [],
   "source": [
    "dc = DataCollatorForLanguageModeling(tokenizer, mlm_probability=0.2)\n",
    "lblg = LineByLineDataGenerator(tokenizer, dc)"
   ]
  },
  {
   "cell_type": "code",
   "execution_count": 102,
   "id": "126d191c",
   "metadata": {},
   "outputs": [],
   "source": [
    "for index, batch in enumerate(lblg.generate(df.FullDescription, batch_size=4)):\n",
    "    if index > 5:\n",
    "        break\n",
    "#     print(len(batch))\n",
    "#     print(batch)"
   ]
  },
  {
   "cell_type": "code",
   "execution_count": 104,
   "id": "b3fd8b80",
   "metadata": {},
   "outputs": [],
   "source": [
    "import torch\n",
    "import math\n",
    "from torch import nn, optim\n",
    "from torch.nn import functional as F\n",
    "device = torch.device(\"cuda\" if torch.cuda.is_available() else \"cpu\")"
   ]
  },
  {
   "cell_type": "code",
   "execution_count": 105,
   "id": "af13b87c",
   "metadata": {},
   "outputs": [],
   "source": [
    "from src.layers import SelfAttentionLayer, EncoderBlock"
   ]
  },
  {
   "cell_type": "code",
   "execution_count": 106,
   "id": "8efcbad9",
   "metadata": {},
   "outputs": [],
   "source": [
    "batch_size = 2\n",
    "embedding_dim = 6\n",
    "timesteps = 4\n",
    "x = torch.rand((batch_size, timesteps, embedding_dim))\n",
    "mask = [[True if random.random() > 0.8 else False for _ in range(timesteps)] for _ in range(batch_size)]\n",
    "mask = torch.tensor(mask)\n",
    "sal = SelfAttentionLayer(embedding_dim, 2, 0.0)"
   ]
  },
  {
   "cell_type": "code",
   "execution_count": 107,
   "id": "954de087",
   "metadata": {},
   "outputs": [],
   "source": [
    "out = sal(x, mask)"
   ]
  },
  {
   "cell_type": "code",
   "execution_count": 108,
   "id": "5898b542",
   "metadata": {},
   "outputs": [
    {
     "data": {
      "text/plain": [
       "tensor([[[ 1.1185,  0.8667,  0.1133, -0.3684, -0.1906, -0.1959],\n",
       "         [ 0.2860,  0.6540,  0.1477, -0.4397,  0.2360,  0.2782],\n",
       "         [-0.4289,  0.8467, -0.6882,  0.4489,  0.1395,  0.8956],\n",
       "         [ 0.1919,  0.5979,  0.2381, -0.3152, -0.1683,  0.6560]],\n",
       "\n",
       "        [[-0.1495, -0.0477, -0.1222,  0.5185,  0.6021,  0.3585],\n",
       "         [ 0.3315,  1.0258,  0.6310,  0.2581,  0.6205, -0.7676],\n",
       "         [-1.0240,  0.3972, -0.2392, -0.1813,  0.1536, -0.3460],\n",
       "         [ 0.7989,  0.7026,  0.6234,  0.6372,  0.0574, -0.6991]]],\n",
       "       grad_fn=<AddBackward0>)"
      ]
     },
     "execution_count": 108,
     "metadata": {},
     "output_type": "execute_result"
    }
   ],
   "source": [
    "eb = EncoderBlock(embedding_dim, 2, 0.0)\n",
    "eb(x, mask)"
   ]
  },
  {
   "cell_type": "code",
   "execution_count": 21,
   "id": "9aaff023",
   "metadata": {},
   "outputs": [],
   "source": [
    "class Transformer_MLM(nn.Module):\n",
    "    def __init__(self,tokenizer=None, emb_dimension=512, n_head=8, dropout=0.1, n_layers=6):\n",
    "        super().__init__()\n",
    "        self.tokenizer = tokenizer\n",
    "        self.token_encoder = nn.Embedding(tokenizer.get_vocab_size(), emb_dimension)\n",
    "        self.position_encoder = nn.Parameter(torch.zeros(1, 512, emb_dimension).uniform_(0, 0.05))\n",
    "        \n",
    "        \n",
    "        self.encoders = nn.ModuleList([EncoderBlock(emb_dimension, n_head, dropout) for _ in range(n_layers)])\n",
    "        self.lm_head = nn.Linear(emb_dimension, tokenizer.get_vocab_size())\n",
    "        \n",
    "    def forward(self, x, mask=None):\n",
    "        B, T = x.shape\n",
    "        x_tok = self.token_encoder(x)\n",
    "        x_pos = self.position_encoder[:, :T, :]\n",
    "        \n",
    "        x_emb = x_tok + x_pos\n",
    "        \n",
    "        for block in self.encoders:\n",
    "            x_emb = block(x_emb, mask)\n",
    "            \n",
    "        out = self.lm_head(x_emb)\n",
    "        return out"
   ]
  },
  {
   "cell_type": "code",
   "execution_count": 31,
   "id": "deb91739",
   "metadata": {},
   "outputs": [
    {
     "data": {
      "text/plain": [
       "Transformer_MLM(\n",
       "  (token_encoder): Embedding(36000, 512)\n",
       "  (encoders): ModuleList(\n",
       "    (0): EncoderBlock(\n",
       "      (ln1): LayerNorm((512,), eps=1e-05, elementwise_affine=True)\n",
       "      (ln2): LayerNorm((512,), eps=1e-05, elementwise_affine=True)\n",
       "      (dropout): Dropout(p=0.1, inplace=False)\n",
       "      (self_attention): SelfAttentionLayer(\n",
       "        (qw): Linear(in_features=512, out_features=512, bias=True)\n",
       "        (kw): Linear(in_features=512, out_features=512, bias=True)\n",
       "        (vw): Linear(in_features=512, out_features=512, bias=True)\n",
       "        (proj): Linear(in_features=512, out_features=512, bias=True)\n",
       "        (dropout): Dropout(p=0.5, inplace=False)\n",
       "      )\n",
       "      (feed_forward): Sequential(\n",
       "        (0): Linear(in_features=512, out_features=2048, bias=True)\n",
       "        (1): GELU()\n",
       "        (2): Linear(in_features=2048, out_features=512, bias=True)\n",
       "        (3): Dropout(p=0.1, inplace=False)\n",
       "      )\n",
       "    )\n",
       "    (1): EncoderBlock(\n",
       "      (ln1): LayerNorm((512,), eps=1e-05, elementwise_affine=True)\n",
       "      (ln2): LayerNorm((512,), eps=1e-05, elementwise_affine=True)\n",
       "      (dropout): Dropout(p=0.1, inplace=False)\n",
       "      (self_attention): SelfAttentionLayer(\n",
       "        (qw): Linear(in_features=512, out_features=512, bias=True)\n",
       "        (kw): Linear(in_features=512, out_features=512, bias=True)\n",
       "        (vw): Linear(in_features=512, out_features=512, bias=True)\n",
       "        (proj): Linear(in_features=512, out_features=512, bias=True)\n",
       "        (dropout): Dropout(p=0.5, inplace=False)\n",
       "      )\n",
       "      (feed_forward): Sequential(\n",
       "        (0): Linear(in_features=512, out_features=2048, bias=True)\n",
       "        (1): GELU()\n",
       "        (2): Linear(in_features=2048, out_features=512, bias=True)\n",
       "        (3): Dropout(p=0.1, inplace=False)\n",
       "      )\n",
       "    )\n",
       "    (2): EncoderBlock(\n",
       "      (ln1): LayerNorm((512,), eps=1e-05, elementwise_affine=True)\n",
       "      (ln2): LayerNorm((512,), eps=1e-05, elementwise_affine=True)\n",
       "      (dropout): Dropout(p=0.1, inplace=False)\n",
       "      (self_attention): SelfAttentionLayer(\n",
       "        (qw): Linear(in_features=512, out_features=512, bias=True)\n",
       "        (kw): Linear(in_features=512, out_features=512, bias=True)\n",
       "        (vw): Linear(in_features=512, out_features=512, bias=True)\n",
       "        (proj): Linear(in_features=512, out_features=512, bias=True)\n",
       "        (dropout): Dropout(p=0.5, inplace=False)\n",
       "      )\n",
       "      (feed_forward): Sequential(\n",
       "        (0): Linear(in_features=512, out_features=2048, bias=True)\n",
       "        (1): GELU()\n",
       "        (2): Linear(in_features=2048, out_features=512, bias=True)\n",
       "        (3): Dropout(p=0.1, inplace=False)\n",
       "      )\n",
       "    )\n",
       "    (3): EncoderBlock(\n",
       "      (ln1): LayerNorm((512,), eps=1e-05, elementwise_affine=True)\n",
       "      (ln2): LayerNorm((512,), eps=1e-05, elementwise_affine=True)\n",
       "      (dropout): Dropout(p=0.1, inplace=False)\n",
       "      (self_attention): SelfAttentionLayer(\n",
       "        (qw): Linear(in_features=512, out_features=512, bias=True)\n",
       "        (kw): Linear(in_features=512, out_features=512, bias=True)\n",
       "        (vw): Linear(in_features=512, out_features=512, bias=True)\n",
       "        (proj): Linear(in_features=512, out_features=512, bias=True)\n",
       "        (dropout): Dropout(p=0.5, inplace=False)\n",
       "      )\n",
       "      (feed_forward): Sequential(\n",
       "        (0): Linear(in_features=512, out_features=2048, bias=True)\n",
       "        (1): GELU()\n",
       "        (2): Linear(in_features=2048, out_features=512, bias=True)\n",
       "        (3): Dropout(p=0.1, inplace=False)\n",
       "      )\n",
       "    )\n",
       "    (4): EncoderBlock(\n",
       "      (ln1): LayerNorm((512,), eps=1e-05, elementwise_affine=True)\n",
       "      (ln2): LayerNorm((512,), eps=1e-05, elementwise_affine=True)\n",
       "      (dropout): Dropout(p=0.1, inplace=False)\n",
       "      (self_attention): SelfAttentionLayer(\n",
       "        (qw): Linear(in_features=512, out_features=512, bias=True)\n",
       "        (kw): Linear(in_features=512, out_features=512, bias=True)\n",
       "        (vw): Linear(in_features=512, out_features=512, bias=True)\n",
       "        (proj): Linear(in_features=512, out_features=512, bias=True)\n",
       "        (dropout): Dropout(p=0.5, inplace=False)\n",
       "      )\n",
       "      (feed_forward): Sequential(\n",
       "        (0): Linear(in_features=512, out_features=2048, bias=True)\n",
       "        (1): GELU()\n",
       "        (2): Linear(in_features=2048, out_features=512, bias=True)\n",
       "        (3): Dropout(p=0.1, inplace=False)\n",
       "      )\n",
       "    )\n",
       "    (5): EncoderBlock(\n",
       "      (ln1): LayerNorm((512,), eps=1e-05, elementwise_affine=True)\n",
       "      (ln2): LayerNorm((512,), eps=1e-05, elementwise_affine=True)\n",
       "      (dropout): Dropout(p=0.1, inplace=False)\n",
       "      (self_attention): SelfAttentionLayer(\n",
       "        (qw): Linear(in_features=512, out_features=512, bias=True)\n",
       "        (kw): Linear(in_features=512, out_features=512, bias=True)\n",
       "        (vw): Linear(in_features=512, out_features=512, bias=True)\n",
       "        (proj): Linear(in_features=512, out_features=512, bias=True)\n",
       "        (dropout): Dropout(p=0.5, inplace=False)\n",
       "      )\n",
       "      (feed_forward): Sequential(\n",
       "        (0): Linear(in_features=512, out_features=2048, bias=True)\n",
       "        (1): GELU()\n",
       "        (2): Linear(in_features=2048, out_features=512, bias=True)\n",
       "        (3): Dropout(p=0.1, inplace=False)\n",
       "      )\n",
       "    )\n",
       "  )\n",
       "  (lm_head): Linear(in_features=512, out_features=36000, bias=True)\n",
       ")"
      ]
     },
     "execution_count": 31,
     "metadata": {},
     "output_type": "execute_result"
    }
   ],
   "source": [
    "transformer_model = Transformer_MLM(tokenizer)\n",
    "transformer_model.to(device)"
   ]
  },
  {
   "cell_type": "code",
   "execution_count": 32,
   "id": "51bae12a",
   "metadata": {},
   "outputs": [],
   "source": [
    "optimizer = optim.AdamW(transformer_model.parameters())"
   ]
  },
  {
   "cell_type": "code",
   "execution_count": 33,
   "id": "22844805",
   "metadata": {},
   "outputs": [],
   "source": [
    "running_loss = 0.0\n",
    "losses = []"
   ]
  },
  {
   "cell_type": "code",
   "execution_count": 34,
   "id": "a59a7513",
   "metadata": {},
   "outputs": [
    {
     "data": {
      "text/plain": [
       "[220, 118]"
      ]
     },
     "execution_count": 34,
     "metadata": {},
     "output_type": "execute_result"
    }
   ],
   "source": [
    "tokenizer.encode(\"thiss\").ids"
   ]
  },
  {
   "cell_type": "code",
   "execution_count": 35,
   "id": "5e4b3f15",
   "metadata": {},
   "outputs": [
    {
     "data": {
      "text/plain": [
       "'this ##s'"
      ]
     },
     "execution_count": 35,
     "metadata": {},
     "output_type": "execute_result"
    }
   ],
   "source": [
    "tokenizer.decode([220, 118])"
   ]
  },
  {
   "cell_type": "code",
   "execution_count": null,
   "id": "3f9e3099",
   "metadata": {},
   "outputs": [
    {
     "name": "stdout",
     "output_type": "stream",
     "text": [
      "Running loss at 0 is 3.1283718777458853\n",
      "Running loss at 25 is 2.931056287927409\n",
      "Running loss at 50 is 3.017293889846036\n",
      "Running loss at 75 is 3.128384707200515\n",
      "Running loss at 100 is 3.0571218325033054\n",
      "Running loss at 125 is 3.0483030946336442\n",
      "Running loss at 150 is 3.1674711303933956\n",
      "Running loss at 175 is 2.9677850804093615\n",
      "Running loss at 200 is 2.968035617602407\n",
      "Running loss at 225 is 3.050248095297893\n",
      "Running loss at 250 is 3.10561120995291\n",
      "Running loss at 275 is 2.860765017543474\n",
      "Running loss at 300 is 3.088242750249806\n",
      "Running loss at 325 is 3.1028685519744545\n",
      "Running loss at 350 is 2.9729743299971796\n",
      "Running loss at 375 is 2.842696932487277\n",
      "Running loss at 400 is 3.018090758428569\n",
      "Running loss at 425 is 3.0590525613283814\n",
      "Running loss at 450 is 2.8769460945313075\n",
      "Running loss at 475 is 2.993011584115023\n",
      "Running loss at 500 is 3.0578825135092917\n",
      "Running loss at 525 is 2.9746682522133474\n",
      "Running loss at 550 is 3.0495479746611682\n",
      "Running loss at 575 is 2.9513531804840922\n",
      "Running loss at 600 is 2.991173337638955\n",
      "Running loss at 625 is 2.9310771413440935\n",
      "Running loss at 650 is 3.0866555789254417\n",
      "Running loss at 700 is 2.9340166738973834\n",
      "Running loss at 725 is 3.0727697022454605\n",
      "Running loss at 750 is 3.1270198611136197\n",
      "Running loss at 775 is 2.933218306844727\n",
      "Running loss at 12475 is 2.949923637740278\n",
      "Running loss at 12500 is 2.9542202179881105\n",
      "Running loss at 12525 is 3.116553335616537\n",
      "Running loss at 12550 is 2.834579582900029\n",
      "Running loss at 12575 is 2.8450096744950075\n",
      "Running loss at 12600 is 2.8774418318642625\n",
      "Running loss at 12625 is 2.847792365822277\n"
     ]
    },
    {
     "ename": "KeyboardInterrupt",
     "evalue": "",
     "output_type": "error",
     "traceback": [
      "\u001b[0;31m---------------------------------------------------------------------------\u001b[0m",
      "\u001b[0;31mKeyboardInterrupt\u001b[0m                         Traceback (most recent call last)",
      "\u001b[0;32m<ipython-input-109-e875987e58ac>\u001b[0m in \u001b[0;36m<module>\u001b[0;34m\u001b[0m\n\u001b[1;32m     19\u001b[0m \u001b[0;34m\u001b[0m\u001b[0m\n\u001b[1;32m     20\u001b[0m     \u001b[0mloss\u001b[0m \u001b[0;34m=\u001b[0m \u001b[0mloss\u001b[0m \u001b[0;34m/\u001b[0m \u001b[0maccumulation_steps\u001b[0m\u001b[0;34m\u001b[0m\u001b[0;34m\u001b[0m\u001b[0m\n\u001b[0;32m---> 21\u001b[0;31m     \u001b[0mloss\u001b[0m\u001b[0;34m.\u001b[0m\u001b[0mbackward\u001b[0m\u001b[0;34m(\u001b[0m\u001b[0;34m)\u001b[0m\u001b[0;34m\u001b[0m\u001b[0;34m\u001b[0m\u001b[0m\n\u001b[0m\u001b[1;32m     22\u001b[0m     \u001b[0;32mif\u001b[0m \u001b[0;34m(\u001b[0m\u001b[0mindex\u001b[0m\u001b[0;34m+\u001b[0m\u001b[0;36m1\u001b[0m\u001b[0;34m)\u001b[0m \u001b[0;34m%\u001b[0m \u001b[0maccumulation_steps\u001b[0m \u001b[0;34m==\u001b[0m \u001b[0;36m0\u001b[0m\u001b[0;34m:\u001b[0m\u001b[0;34m\u001b[0m\u001b[0;34m\u001b[0m\u001b[0m\n\u001b[1;32m     23\u001b[0m         \u001b[0moptimizer\u001b[0m\u001b[0;34m.\u001b[0m\u001b[0mstep\u001b[0m\u001b[0;34m(\u001b[0m\u001b[0;34m)\u001b[0m\u001b[0;34m\u001b[0m\u001b[0;34m\u001b[0m\u001b[0m\n",
      "\u001b[0;32m~/anaconda3/envs/pytorch_latest_p36/lib/python3.6/site-packages/torch/tensor.py\u001b[0m in \u001b[0;36mbackward\u001b[0;34m(self, gradient, retain_graph, create_graph)\u001b[0m\n\u001b[1;32m    219\u001b[0m                 \u001b[0mretain_graph\u001b[0m\u001b[0;34m=\u001b[0m\u001b[0mretain_graph\u001b[0m\u001b[0;34m,\u001b[0m\u001b[0;34m\u001b[0m\u001b[0;34m\u001b[0m\u001b[0m\n\u001b[1;32m    220\u001b[0m                 create_graph=create_graph)\n\u001b[0;32m--> 221\u001b[0;31m         \u001b[0mtorch\u001b[0m\u001b[0;34m.\u001b[0m\u001b[0mautograd\u001b[0m\u001b[0;34m.\u001b[0m\u001b[0mbackward\u001b[0m\u001b[0;34m(\u001b[0m\u001b[0mself\u001b[0m\u001b[0;34m,\u001b[0m \u001b[0mgradient\u001b[0m\u001b[0;34m,\u001b[0m \u001b[0mretain_graph\u001b[0m\u001b[0;34m,\u001b[0m \u001b[0mcreate_graph\u001b[0m\u001b[0;34m)\u001b[0m\u001b[0;34m\u001b[0m\u001b[0;34m\u001b[0m\u001b[0m\n\u001b[0m\u001b[1;32m    222\u001b[0m \u001b[0;34m\u001b[0m\u001b[0m\n\u001b[1;32m    223\u001b[0m     \u001b[0;32mdef\u001b[0m \u001b[0mregister_hook\u001b[0m\u001b[0;34m(\u001b[0m\u001b[0mself\u001b[0m\u001b[0;34m,\u001b[0m \u001b[0mhook\u001b[0m\u001b[0;34m)\u001b[0m\u001b[0;34m:\u001b[0m\u001b[0;34m\u001b[0m\u001b[0;34m\u001b[0m\u001b[0m\n",
      "\u001b[0;32m~/anaconda3/envs/pytorch_latest_p36/lib/python3.6/site-packages/torch/autograd/__init__.py\u001b[0m in \u001b[0;36mbackward\u001b[0;34m(tensors, grad_tensors, retain_graph, create_graph, grad_variables)\u001b[0m\n\u001b[1;32m    130\u001b[0m     Variable._execution_engine.run_backward(\n\u001b[1;32m    131\u001b[0m         \u001b[0mtensors\u001b[0m\u001b[0;34m,\u001b[0m \u001b[0mgrad_tensors_\u001b[0m\u001b[0;34m,\u001b[0m \u001b[0mretain_graph\u001b[0m\u001b[0;34m,\u001b[0m \u001b[0mcreate_graph\u001b[0m\u001b[0;34m,\u001b[0m\u001b[0;34m\u001b[0m\u001b[0;34m\u001b[0m\u001b[0m\n\u001b[0;32m--> 132\u001b[0;31m         allow_unreachable=True)  # allow_unreachable flag\n\u001b[0m\u001b[1;32m    133\u001b[0m \u001b[0;34m\u001b[0m\u001b[0m\n\u001b[1;32m    134\u001b[0m \u001b[0;34m\u001b[0m\u001b[0m\n",
      "\u001b[0;31mKeyboardInterrupt\u001b[0m: "
     ]
    }
   ],
   "source": [
    "accumulation_steps = 16\n",
    "transformer_model.train()\n",
    "for index, batch in enumerate(lblg.generate(df.FullDescription.sample(frac=1.0), batch_size=8, max_length=128)):\n",
    "    if index > 50000:\n",
    "        break\n",
    "\n",
    "    inp = batch['input_ids'].to(device)\n",
    "    labels = batch['labels'].to(device)\n",
    "    \n",
    "    output = transformer_model(inp)\n",
    "    output_shape = output.shape\n",
    "    loss_all = F.cross_entropy(output.view(-1, output_shape[-1]), labels.view(-1), reduction='none')\n",
    "    loss = loss_all[loss_all > 0].mean()\n",
    "    lit = loss.item()\n",
    "    losses.append(lit)\n",
    "    running_loss = 0.9 * running_loss + 0.1 * lit\n",
    "    if index % 25 == 0:\n",
    "        print(f'Running loss at {index} is {running_loss}')\n",
    "    \n",
    "    loss = loss / accumulation_steps\n",
    "    loss.backward()\n",
    "    if (index+1) % accumulation_steps == 0:  \n",
    "        optimizer.step()\n",
    "        optimizer.zero_grad()\n"
   ]
  },
  {
   "cell_type": "code",
   "execution_count": 110,
   "id": "87600854",
   "metadata": {},
   "outputs": [
    {
     "data": {
      "text/plain": [
       "tensor(220, device='cuda:0')"
      ]
     },
     "execution_count": 110,
     "metadata": {},
     "output_type": "execute_result"
    }
   ],
   "source": [
    "(loss_all > 0).sum()"
   ]
  },
  {
   "cell_type": "code",
   "execution_count": 111,
   "id": "cd04e133",
   "metadata": {},
   "outputs": [
    {
     "data": {
      "text/plain": [
       "torch.return_types.sort(\n",
       "values=tensor([3.5763e-07, 4.0411e-05, 4.3153e-05, 4.6252e-05, 6.6755e-05, 8.5231e-05,\n",
       "        1.2016e-04, 1.4352e-04, 1.4697e-04, 1.5043e-04, 2.2206e-04, 2.6437e-04,\n",
       "        4.4539e-04, 7.3656e-04, 1.3689e-03, 1.5134e-03, 1.5376e-03, 2.0862e-03,\n",
       "        2.9228e-03, 3.1945e-03, 3.9030e-03, 6.5451e-03, 7.0064e-03, 7.6036e-03,\n",
       "        1.0376e-02, 1.1102e-02, 1.1153e-02, 1.2213e-02, 1.3900e-02, 1.4899e-02,\n",
       "        2.2337e-02, 3.3850e-02, 3.6177e-02, 4.1899e-02, 4.5843e-02, 4.8022e-02,\n",
       "        5.2154e-02, 5.2241e-02, 5.2845e-02, 6.8469e-02, 7.0475e-02, 7.7144e-02,\n",
       "        8.3731e-02, 8.5639e-02, 9.4036e-02, 9.8753e-02, 1.0090e-01, 1.0695e-01,\n",
       "        1.1159e-01, 1.2364e-01, 1.2426e-01, 1.2878e-01, 1.4210e-01, 1.7442e-01,\n",
       "        1.9076e-01, 2.0055e-01, 2.1016e-01, 2.1446e-01, 2.2774e-01, 2.3031e-01,\n",
       "        2.5208e-01, 2.7341e-01, 2.9844e-01, 3.0083e-01, 3.0898e-01, 3.3339e-01,\n",
       "        3.3817e-01, 3.6019e-01, 3.9232e-01, 3.9270e-01, 4.1280e-01, 4.1971e-01,\n",
       "        5.7009e-01, 5.7677e-01, 6.0056e-01, 6.0254e-01, 6.1922e-01, 6.9424e-01,\n",
       "        7.3607e-01, 7.3920e-01, 7.4128e-01, 7.5549e-01, 7.5971e-01, 7.6443e-01,\n",
       "        9.5363e-01, 9.8999e-01, 1.0580e+00, 1.1087e+00, 1.1345e+00, 1.2177e+00,\n",
       "        1.2191e+00, 1.2831e+00, 1.3068e+00, 1.5398e+00, 1.5586e+00, 1.6340e+00,\n",
       "        1.6466e+00, 1.7608e+00, 1.8075e+00, 1.8390e+00, 1.8909e+00, 1.9048e+00,\n",
       "        1.9213e+00, 1.9345e+00, 1.9354e+00, 1.9727e+00, 1.9874e+00, 2.1442e+00,\n",
       "        2.1495e+00, 2.1611e+00, 2.1809e+00, 2.1810e+00, 2.1969e+00, 2.2495e+00,\n",
       "        2.3993e+00, 2.4576e+00, 2.5561e+00, 2.5690e+00, 2.5742e+00, 2.6175e+00,\n",
       "        2.6805e+00, 2.7765e+00, 2.9026e+00, 2.9050e+00, 2.9141e+00, 2.9146e+00,\n",
       "        3.0362e+00, 3.0814e+00, 3.1311e+00, 3.2548e+00, 3.3266e+00, 3.3977e+00,\n",
       "        3.5229e+00, 3.6161e+00, 3.6630e+00, 3.6957e+00, 3.7041e+00, 3.7736e+00,\n",
       "        3.8257e+00, 3.8616e+00, 3.9074e+00, 3.9916e+00, 4.0736e+00, 4.1322e+00,\n",
       "        4.1808e+00, 4.2032e+00, 4.2065e+00, 4.2330e+00, 4.3847e+00, 4.4645e+00,\n",
       "        4.4986e+00, 4.5239e+00, 4.5302e+00, 4.5611e+00, 4.5745e+00, 4.6462e+00,\n",
       "        4.7685e+00, 4.8673e+00, 5.2321e+00, 5.2943e+00, 5.3039e+00, 5.3164e+00,\n",
       "        5.3669e+00, 5.4490e+00, 5.4625e+00, 5.8315e+00, 5.8771e+00, 5.8958e+00,\n",
       "        6.0581e+00, 6.2040e+00, 6.3836e+00, 6.4529e+00, 6.4883e+00, 6.5164e+00,\n",
       "        6.5738e+00, 6.7682e+00, 6.9483e+00, 7.1497e+00, 7.2720e+00, 7.2877e+00,\n",
       "        7.3913e+00, 7.4089e+00, 7.5135e+00, 7.5950e+00, 7.6529e+00, 7.7556e+00,\n",
       "        7.7781e+00, 7.8214e+00, 7.8980e+00, 7.9157e+00, 7.9234e+00, 8.0578e+00,\n",
       "        8.3033e+00, 8.3955e+00, 8.4256e+00, 8.5134e+00, 8.6271e+00, 8.6825e+00,\n",
       "        8.7009e+00, 8.7889e+00, 8.8643e+00, 8.8729e+00, 8.9189e+00, 8.9635e+00,\n",
       "        9.2905e+00, 9.5022e+00, 9.7727e+00, 9.8331e+00, 9.8697e+00, 9.8766e+00,\n",
       "        1.0100e+01, 1.0384e+01, 1.0439e+01, 1.0788e+01, 1.1216e+01, 1.1470e+01,\n",
       "        1.1475e+01, 1.2202e+01, 1.2598e+01, 1.5759e+01], device='cuda:0',\n",
       "       grad_fn=<SortBackward>),\n",
       "indices=tensor([196, 100, 199,  81,  84,  88, 191,  86, 135,  43, 201, 207,  28, 148,\n",
       "        185, 214,  41,  16,  87,  47,   6,  26, 122,  96,  89,  46,  97,  95,\n",
       "        202,  66,  27,  94, 108,  75,  80, 147, 106,  82, 124,  60,  78,  59,\n",
       "         57,  61,  65,  32,  83, 188, 159, 200,  91,  79,  33,  85,  90,  56,\n",
       "         31,  74,  36, 123,  39, 118,  37, 209,  29,  63, 119,   0,  55, 208,\n",
       "         11,  76,  67, 116,  68, 212,  40, 198,  62, 210, 193,  64,  69,  42,\n",
       "         17, 136, 215, 158,  51, 137, 115, 192, 139, 168, 167, 161,   7, 164,\n",
       "         30,  12, 107, 150,  35,  52, 154,   1, 146,  73, 112,  93,  58,  92,\n",
       "          9, 132, 179,  24, 217, 194,  77, 145, 151,  71, 197,   8,  15, 120,\n",
       "        117, 113,  50, 190,   2, 125,  72, 101, 121, 165, 102, 105, 143,  10,\n",
       "        175, 126,  18,  70, 211, 114,  20, 218, 103, 205, 162,  44, 134, 127,\n",
       "         34,   3, 203, 216, 157,  54, 183, 206, 129, 156, 219,  19, 189, 109,\n",
       "        111,  21, 204, 186,  45, 152, 187, 131,  38,  14, 130, 170,   5, 141,\n",
       "        181, 138,   4,  99, 178, 140, 184, 180, 172, 110, 160, 177, 173, 149,\n",
       "        163, 169, 166, 153, 104,  48, 176, 144, 128, 213, 142,  23,  49,  53,\n",
       "         98, 182, 171,  25, 174,  13, 155,  22, 133, 195], device='cuda:0'))"
      ]
     },
     "execution_count": 111,
     "metadata": {},
     "output_type": "execute_result"
    }
   ],
   "source": [
    "loss_all[loss_all>0].sort()"
   ]
  },
  {
   "cell_type": "code",
   "execution_count": 112,
   "id": "b576aef1",
   "metadata": {},
   "outputs": [],
   "source": [
    "def save_model(model, PATH):\n",
    "    torch.save(model.state_dict(), PATH)\n",
    "    \n",
    "def load_model(PATH):\n",
    "    model = RNN_MLM(tokenizer)\n",
    "    model.load_state_dict(torch.load(PATH, map_location=device))\n",
    "    model.eval()\n",
    "    return model"
   ]
  },
  {
   "cell_type": "code",
   "execution_count": 113,
   "id": "4045694f",
   "metadata": {},
   "outputs": [],
   "source": [
    "save_model(transformer_model, 'models/transformer_6_512_bi_wordpiece.pt')\n",
    "# rnn_mlm_model = load_model('models/rnn_4_bi_wordpiece.pt')"
   ]
  },
  {
   "cell_type": "code",
   "execution_count": 114,
   "id": "b9b8f624",
   "metadata": {},
   "outputs": [
    {
     "data": {
      "text/plain": [
       "tensor(0.2082, device='cuda:0', grad_fn=<DivBackward0>)"
      ]
     },
     "execution_count": 114,
     "metadata": {},
     "output_type": "execute_result"
    }
   ],
   "source": [
    "loss"
   ]
  },
  {
   "cell_type": "code",
   "execution_count": null,
   "id": "f693235b",
   "metadata": {},
   "outputs": [],
   "source": []
  },
  {
   "cell_type": "code",
   "execution_count": 115,
   "id": "bcc38281",
   "metadata": {},
   "outputs": [
    {
     "data": {
      "text/html": [
       "        <script type=\"text/javascript\">\n",
       "        window.PlotlyConfig = {MathJaxConfig: 'local'};\n",
       "        if (window.MathJax) {MathJax.Hub.Config({SVG: {font: \"STIX-Web\"}});}\n",
       "        if (typeof require !== 'undefined') {\n",
       "        require.undef(\"plotly\");\n",
       "        requirejs.config({\n",
       "            paths: {\n",
       "                'plotly': ['https://cdn.plot.ly/plotly-latest.min']\n",
       "            }\n",
       "        });\n",
       "        require(['plotly'], function(Plotly) {\n",
       "            window._Plotly = Plotly;\n",
       "        });\n",
       "        }\n",
       "        </script>\n",
       "        "
      ]
     },
     "metadata": {},
     "output_type": "display_data"
    }
   ],
   "source": [
    "from plotly.offline import init_notebook_mode\n",
    "init_notebook_mode(connected=True)\n",
    "from plotly import express as px"
   ]
  },
  {
   "cell_type": "code",
   "execution_count": 116,
   "id": "469302d7",
   "metadata": {},
   "outputs": [
    {
     "data": {
      "text/plain": [
       "<AxesSubplot:>"
      ]
     },
     "execution_count": 116,
     "metadata": {},
     "output_type": "execute_result"
    },
    {
     "data": {
      "image/png": "[encoded data removed]",
      "text/plain": [
       "<Figure size 432x288 with 1 Axes>"
      ]
     },
     "metadata": {
      "needs_background": "light"
     },
     "output_type": "display_data"
    }
   ],
   "source": [
    "ls = pd.Series(losses)\n",
    "ls.plot()"
   ]
  },
  {
   "cell_type": "code",
   "execution_count": 117,
   "id": "5149cfea",
   "metadata": {},
   "outputs": [
    {
     "data": {
      "text/plain": [
       "Transformer_MLM(\n",
       "  (token_encoder): Embedding(36000, 512)\n",
       "  (encoders): ModuleList(\n",
       "    (0): EncoderBlock(\n",
       "      (ln1): LayerNorm((512,), eps=1e-05, elementwise_affine=True)\n",
       "      (ln2): LayerNorm((512,), eps=1e-05, elementwise_affine=True)\n",
       "      (dropout): Dropout(p=0.1, inplace=False)\n",
       "      (self_attention): SelfAttentionLayer(\n",
       "        (qw): Linear(in_features=512, out_features=512, bias=True)\n",
       "        (kw): Linear(in_features=512, out_features=512, bias=True)\n",
       "        (vw): Linear(in_features=512, out_features=512, bias=True)\n",
       "        (proj): Linear(in_features=512, out_features=512, bias=True)\n",
       "        (dropout): Dropout(p=0.5, inplace=False)\n",
       "      )\n",
       "      (feed_forward): Sequential(\n",
       "        (0): Linear(in_features=512, out_features=2048, bias=True)\n",
       "        (1): GELU()\n",
       "        (2): Linear(in_features=2048, out_features=512, bias=True)\n",
       "        (3): Dropout(p=0.1, inplace=False)\n",
       "      )\n",
       "    )\n",
       "    (1): EncoderBlock(\n",
       "      (ln1): LayerNorm((512,), eps=1e-05, elementwise_affine=True)\n",
       "      (ln2): LayerNorm((512,), eps=1e-05, elementwise_affine=True)\n",
       "      (dropout): Dropout(p=0.1, inplace=False)\n",
       "      (self_attention): SelfAttentionLayer(\n",
       "        (qw): Linear(in_features=512, out_features=512, bias=True)\n",
       "        (kw): Linear(in_features=512, out_features=512, bias=True)\n",
       "        (vw): Linear(in_features=512, out_features=512, bias=True)\n",
       "        (proj): Linear(in_features=512, out_features=512, bias=True)\n",
       "        (dropout): Dropout(p=0.5, inplace=False)\n",
       "      )\n",
       "      (feed_forward): Sequential(\n",
       "        (0): Linear(in_features=512, out_features=2048, bias=True)\n",
       "        (1): GELU()\n",
       "        (2): Linear(in_features=2048, out_features=512, bias=True)\n",
       "        (3): Dropout(p=0.1, inplace=False)\n",
       "      )\n",
       "    )\n",
       "    (2): EncoderBlock(\n",
       "      (ln1): LayerNorm((512,), eps=1e-05, elementwise_affine=True)\n",
       "      (ln2): LayerNorm((512,), eps=1e-05, elementwise_affine=True)\n",
       "      (dropout): Dropout(p=0.1, inplace=False)\n",
       "      (self_attention): SelfAttentionLayer(\n",
       "        (qw): Linear(in_features=512, out_features=512, bias=True)\n",
       "        (kw): Linear(in_features=512, out_features=512, bias=True)\n",
       "        (vw): Linear(in_features=512, out_features=512, bias=True)\n",
       "        (proj): Linear(in_features=512, out_features=512, bias=True)\n",
       "        (dropout): Dropout(p=0.5, inplace=False)\n",
       "      )\n",
       "      (feed_forward): Sequential(\n",
       "        (0): Linear(in_features=512, out_features=2048, bias=True)\n",
       "        (1): GELU()\n",
       "        (2): Linear(in_features=2048, out_features=512, bias=True)\n",
       "        (3): Dropout(p=0.1, inplace=False)\n",
       "      )\n",
       "    )\n",
       "    (3): EncoderBlock(\n",
       "      (ln1): LayerNorm((512,), eps=1e-05, elementwise_affine=True)\n",
       "      (ln2): LayerNorm((512,), eps=1e-05, elementwise_affine=True)\n",
       "      (dropout): Dropout(p=0.1, inplace=False)\n",
       "      (self_attention): SelfAttentionLayer(\n",
       "        (qw): Linear(in_features=512, out_features=512, bias=True)\n",
       "        (kw): Linear(in_features=512, out_features=512, bias=True)\n",
       "        (vw): Linear(in_features=512, out_features=512, bias=True)\n",
       "        (proj): Linear(in_features=512, out_features=512, bias=True)\n",
       "        (dropout): Dropout(p=0.5, inplace=False)\n",
       "      )\n",
       "      (feed_forward): Sequential(\n",
       "        (0): Linear(in_features=512, out_features=2048, bias=True)\n",
       "        (1): GELU()\n",
       "        (2): Linear(in_features=2048, out_features=512, bias=True)\n",
       "        (3): Dropout(p=0.1, inplace=False)\n",
       "      )\n",
       "    )\n",
       "    (4): EncoderBlock(\n",
       "      (ln1): LayerNorm((512,), eps=1e-05, elementwise_affine=True)\n",
       "      (ln2): LayerNorm((512,), eps=1e-05, elementwise_affine=True)\n",
       "      (dropout): Dropout(p=0.1, inplace=False)\n",
       "      (self_attention): SelfAttentionLayer(\n",
       "        (qw): Linear(in_features=512, out_features=512, bias=True)\n",
       "        (kw): Linear(in_features=512, out_features=512, bias=True)\n",
       "        (vw): Linear(in_features=512, out_features=512, bias=True)\n",
       "        (proj): Linear(in_features=512, out_features=512, bias=True)\n",
       "        (dropout): Dropout(p=0.5, inplace=False)\n",
       "      )\n",
       "      (feed_forward): Sequential(\n",
       "        (0): Linear(in_features=512, out_features=2048, bias=True)\n",
       "        (1): GELU()\n",
       "        (2): Linear(in_features=2048, out_features=512, bias=True)\n",
       "        (3): Dropout(p=0.1, inplace=False)\n",
       "      )\n",
       "    )\n",
       "    (5): EncoderBlock(\n",
       "      (ln1): LayerNorm((512,), eps=1e-05, elementwise_affine=True)\n",
       "      (ln2): LayerNorm((512,), eps=1e-05, elementwise_affine=True)\n",
       "      (dropout): Dropout(p=0.1, inplace=False)\n",
       "      (self_attention): SelfAttentionLayer(\n",
       "        (qw): Linear(in_features=512, out_features=512, bias=True)\n",
       "        (kw): Linear(in_features=512, out_features=512, bias=True)\n",
       "        (vw): Linear(in_features=512, out_features=512, bias=True)\n",
       "        (proj): Linear(in_features=512, out_features=512, bias=True)\n",
       "        (dropout): Dropout(p=0.5, inplace=False)\n",
       "      )\n",
       "      (feed_forward): Sequential(\n",
       "        (0): Linear(in_features=512, out_features=2048, bias=True)\n",
       "        (1): GELU()\n",
       "        (2): Linear(in_features=2048, out_features=512, bias=True)\n",
       "        (3): Dropout(p=0.1, inplace=False)\n",
       "      )\n",
       "    )\n",
       "  )\n",
       "  (lm_head): Linear(in_features=512, out_features=36000, bias=True)\n",
       ")"
      ]
     },
     "execution_count": 117,
     "metadata": {},
     "output_type": "execute_result"
    }
   ],
   "source": [
    "transformer_model.eval()"
   ]
  },
  {
   "cell_type": "code",
   "execution_count": 118,
   "id": "b3bbd775",
   "metadata": {},
   "outputs": [
    {
     "data": {
      "text/plain": [
       "'C Developer Belfast Salary up to ****k pa Our client, a leading edge Software Development Centre in Belfast requires C Developers to deliver key software products directly for their clients and for their business teams using the latest Microsoft technologies (.NET C, ASP.NET and SQL Server). Key Accountabilities • Design and develop cuttingedge software solutions, developed in C .Net with SQL as the back end data store. • Ensure all deliverables for projects are completed on time, to budget and within quality standards. • Assist the Project Manager in production of estimates for development activity. • Work with the Business and Data Analysts to drive the requirements forward. • Provide support and consultancy across all test phases of the project. • Participation in planning of software releases, their execution and postrelease activities. • Assist with maintenance and production support. • Support colleagues through advice and technical assistance. Key Technical Skills • A degree in IT or related subject and at least 2 years recent relevant experience in .NET software development within a commercial environment. • Technically excellent in C, ASP.NET, MVC, web development using Visual Studio, also strong working knowledge of SQL Server and TFS. • Experience of full software lifecycle and different methodologies. • Working knowledge of design patterns and practices. • Excellent time management skills and the proven ability and drive to meet deadlines. • Excellent teamworking skills, ability to work independently, show ownership and commitment to the success of the team. • Proven problem solving skills, analytical mind and a keen eye for detail. Hours of work: Core hours are 8am to 6pm Monday to Friday and you will be required to work 37.5 hours per week, timings will be agreed with your manager. Recruitment Direct is acting as a recruitment agency'"
      ]
     },
     "execution_count": 118,
     "metadata": {},
     "output_type": "execute_result"
    }
   ],
   "source": [
    "df[df.Title.notnull() & df.Title.str.contains('Software Developer')].iloc[0]['FullDescription']"
   ]
  },
  {
   "cell_type": "code",
   "execution_count": 119,
   "id": "5270dc0c",
   "metadata": {},
   "outputs": [],
   "source": [
    "para = \"\"\"Designation: Python Distributed [MASK] Engineer\n",
    "Educational Qualifications: B.Tech/M.Tech/MS/MCA\n",
    "Experience: 3-9 Years\n",
    "What you will do\n",
    "Apply your [MASK] set to fetch data from [MASK] online web sources, cleanse it and [MASK] APIs on top of it.\n",
    "Work with [MASK] databases (MongoDB) to store raw/document-based data.\n",
    "Develop a deep [MASK] of our vast data sources on the web and know exactly how, when, and which data to scrape, parse and store.\n",
    "Develop [MASK] for automating and maintaining a [MASK] flow of data from multiple sources.\n",
    "Work independently with little supervision to research and test [MASK] solutions.\n",
    "What you will need\n",
    "Strong coding [MASK] in Python and [MASK] Web Framework.\n",
    "Information retrieval – Web [MASK].\n",
    "Experience with NoSQL data storage like [MASK].\n",
    "Good knowledge of Asynchronous task [MASK] like Celery.\n",
    "Experience working with large scale [MASK] and storage.\n",
    "Knowledge of [MASK] with Node.js is a plus.\n",
    "Knowledge of [MASK] with various front end technologies and how various websites are built.\n",
    "Sound [MASK] of Asynchronous Programming in python like AsyncIO.\"\"\"\n",
    "# para = para.replace('\\n', ' ')\n",
    "toks = tokenizer.encode(f'[CLS] {para} [SEP]')\n",
    "toks = torch.tensor([toks.ids]).to(device)"
   ]
  },
  {
   "cell_type": "code",
   "execution_count": 120,
   "id": "90c5e9aa",
   "metadata": {},
   "outputs": [],
   "source": [
    "output = transformer_model(toks)\n",
    "output = output.argmax(dim=-1)[0].cpu()"
   ]
  },
  {
   "cell_type": "code",
   "execution_count": 121,
   "id": "77fd92d3",
   "metadata": {},
   "outputs": [
    {
     "data": {
      "text/plain": [
       "'samarit requirements : python / software engineer educational qualifications : b . c / m . net / ms / office experience : 3 0 9 years what you will do apply your skill set to interrogate data from all online web sources , cleanse it and other apis on top of it . work with relational databases ( mongodb ) to store management / document data based data . develop a deep understanding of our latest data sources on the web and know exactly how , when , and which data to scrape , parse and store . develop solutions for automating and maintaining a smooth flow of data from multiple sources . work independently with little supervision to research and test of solutions . what you will need strong coding skills in python and a web framework . information retrieval – web applications . experience with nosql data storage like technologies . good knowledge of asynchronous task . likeegy . experience working with large scale , and storage . knowledge of working with node . js is a plus . knowledge of working with various front end technologies and how various websites are built . sound knowledge of asynchronous programming in python like a ao . .'"
      ]
     },
     "execution_count": 121,
     "metadata": {},
     "output_type": "execute_result"
    }
   ],
   "source": [
    "tokenizer.decode(output.numpy()).replace(' ##', '')"
   ]
  },
  {
   "cell_type": "code",
   "execution_count": 51,
   "id": "2745f83d",
   "metadata": {},
   "outputs": [],
   "source": [
    "# df[df.FullDescription.str.contains('data science')]"
   ]
  },
  {
   "cell_type": "code",
   "execution_count": 57,
   "id": "cdc75407",
   "metadata": {},
   "outputs": [
    {
     "data": {
      "text/plain": [
       "'Location  Leeds. My client, an established and growing IT company are currently recruiting for a Telemarketing Executive. This is an exciting new business sales opportunity to join a forward thinking organisation that continues to go from strength to strength. The Telemarketing Executive role offers an excellent platform for progression to Senior Account Manager. Role Profile: The Telemarketer function is a key position to feed the growth objectives of the organisation. The intention of this position is to drive new clients to a Workshop and/or contact new clients on a range of specific products and service offerings on a project by project basis. The position is a training ground to further graduate onto junior account manager role after approximately ****2 months. It is expected that you will be capable of using the phone and email to convey value of the workshop or project with a qualified decision maker. Key Responsibilities: Your main targets will include: Ability to make **** outbound calls per day To speak with a minimum of 10 decision maker contacts To meet specific project targets E.g. workshop **** delegate per day To meet a minimum of 1 hour call each day Product, industry and service knowledge goals Your consultative style and proactivity will enable you to understand customers business, identify their needs and then leverage this information to achieve the required goal.'"
      ]
     },
     "execution_count": 57,
     "metadata": {},
     "output_type": "execute_result"
    }
   ],
   "source": [
    "df.FullDescription[5500]"
   ]
  },
  {
   "cell_type": "code",
   "execution_count": null,
   "id": "5d8a23d9",
   "metadata": {},
   "outputs": [],
   "source": [
    "torch.cuda.empty_cache()"
   ]
  },
  {
   "cell_type": "code",
   "execution_count": null,
   "id": "a8fa1553",
   "metadata": {},
   "outputs": [],
   "source": [
    "print(torch.cuda.memory_summary(device=None, abbreviated=False))"
   ]
  },
  {
   "cell_type": "code",
   "execution_count": 52,
   "id": "09a1f1b1",
   "metadata": {},
   "outputs": [
    {
     "data": {
      "text/plain": [
       "38"
      ]
     },
     "execution_count": 52,
     "metadata": {},
     "output_type": "execute_result"
    }
   ],
   "source": [
    "import gc\n",
    "# del rnn_mlm_model\n",
    "# del optimizer\n",
    "gc.collect()"
   ]
  },
  {
   "cell_type": "code",
   "execution_count": null,
   "id": "f32313c2",
   "metadata": {},
   "outputs": [],
   "source": [
    "batch['input_ids'].shape"
   ]
  },
  {
   "cell_type": "code",
   "execution_count": null,
   "id": "33a09226",
   "metadata": {},
   "outputs": [],
   "source": [
    "output.view(-1, output.shape[-1]).shape"
   ]
  },
  {
   "cell_type": "code",
   "execution_count": null,
   "id": "76988f95",
   "metadata": {},
   "outputs": [],
   "source": [
    "labels.shape"
   ]
  },
  {
   "cell_type": "code",
   "execution_count": null,
   "id": "e0fd333a",
   "metadata": {},
   "outputs": [],
   "source": [
    "out = rnn_mlm_model(batch['input_ids'])"
   ]
  },
  {
   "cell_type": "code",
   "execution_count": null,
   "id": "407ee38f",
   "metadata": {},
   "outputs": [],
   "source": [
    "running_loss = 0.0"
   ]
  }
 ],
 "metadata": {
  "kernelspec": {
   "display_name": "conda_pytorch_latest_p36",
   "language": "python",
   "name": "conda_pytorch_latest_p36"
  },
  "language_info": {
   "codemirror_mode": {
    "name": "ipython",
    "version": 3
   },
   "file_extension": ".py",
   "mimetype": "text/x-python",
   "name": "python",
   "nbconvert_exporter": "python",
   "pygments_lexer": "ipython3",
   "version": "3.6.13"
  }
 },
 "nbformat": 4,
 "nbformat_minor": 5
}
